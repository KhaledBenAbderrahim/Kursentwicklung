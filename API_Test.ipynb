{
 "cells": [
  {
   "cell_type": "code",
   "execution_count": 11,
   "id": "7542d4a8",
   "metadata": {
    "pycharm": {
     "name": "#%%\n"
    }
   },
   "outputs": [
    {
     "name": "stdout",
     "output_type": "stream",
     "text": [
      "{'CAD': [], 'USD': []}\n",
      "dict_items([('CAD', 1.488056), ('USD', 1.187333)])\n",
      "dict_items([('CAD', 1.487708), ('USD', 1.187562)])\n",
      "dict_items([('CAD', 1.487848), ('USD', 1.186727)])\n",
      "dict_items([('CAD', 1.497832), ('USD', 1.183472)])\n",
      "dict_items([('CAD', 1.500382), ('USD', 1.182741)])\n",
      "dict_items([('CAD', 1.496637), ('USD', 1.182026)])\n",
      "dict_items([('CAD', 1.498813), ('USD', 1.181205)])\n",
      "dict_items([('CAD', 1.49922), ('USD', 1.181113)])\n",
      "dict_items([('CAD', 1.49775), ('USD', 1.180586)])\n",
      "dict_items([('CAD', 1.493753), ('USD', 1.180817)])\n",
      "dict_items([('CAD', 1.499097), ('USD', 1.180286)])\n",
      "dict_items([('CAD', 1.490835), ('USD', 1.181612)])\n",
      "dict_items([('CAD', 1.492272), ('USD', 1.177518)])\n",
      "dict_items([('CAD', 1.495125), ('USD', 1.172978)])\n",
      "dict_items([('CAD', 1.495637), ('USD', 1.173151)])\n",
      "dict_items([('CAD', 1.496936), ('USD', 1.172642)])\n",
      "dict_items([('CAD', 1.502188), ('USD', 1.172087)])\n",
      "dict_items([('CAD', 1.501744), ('USD', 1.171658)])\n",
      "dict_items([('CAD', 1.49321), ('USD', 1.168109)])\n",
      "dict_items([('CAD', 1.485859), ('USD', 1.173798)])\n",
      "dict_items([('CAD', 1.483184), ('USD', 1.172647)])\n",
      "dict_items([('CAD', 1.482827), ('USD', 1.17198)])\n",
      "dict_items([('CAD', 1.482973), ('USD', 1.172053)])\n",
      "dict_items([('CAD', 1.477499), ('USD', 1.169883)])\n",
      "dict_items([('CAD', 1.482195), ('USD', 1.168889)])\n",
      "dict_items([('CAD', 1.480377), ('USD', 1.160396)])\n",
      "dict_items([('CAD', 1.468467), ('USD', 1.158156)])\n",
      "dict_items([('CAD', 1.46581), ('USD', 1.159043)])\n",
      "dict_items([('CAD', 1.465412), ('USD', 1.158548)])\n",
      "dict_items([('CAD', 1.464257), ('USD', 1.160481)])\n",
      "dict_items([('CAD', 1.462021), ('USD', 1.159686)])\n",
      "{'USD': [1.187333, 1.187562, 1.186727, 1.183472, 1.182741, 1.182026, 1.181205, 1.181113, 1.180586, 1.180817, 1.180286, 1.181612, 1.177518, 1.172978, 1.173151, 1.172642, 1.172087, 1.171658, 1.168109, 1.173798, 1.172647, 1.17198, 1.172053, 1.169883, 1.168889, 1.160396, 1.158156, 1.159043, 1.158548, 1.160481, 1.159686], 'CAD': [1.488056, 1.487708, 1.487848, 1.497832, 1.500382, 1.496637, 1.498813, 1.49922, 1.49775, 1.493753, 1.499097, 1.490835, 1.492272, 1.495125, 1.495637, 1.496936, 1.502188, 1.501744, 1.49321, 1.485859, 1.483184, 1.482827, 1.482973, 1.477499, 1.482195, 1.480377, 1.468467, 1.46581, 1.465412, 1.464257, 1.462021]}\n"
     ]
    }
   ],
   "source": [
    "from datetime import datetime, timedelta , date\n",
    "from pprint import pprint\n",
    "\n",
    "import requests\n",
    "\n",
    "def get_rates(currencies, days=30):\n",
    "    end_date = date.today()\n",
    "    start_date = end_date - timedelta(days=days)\n",
    "\n",
    "    symbols = ','.join(currencies)\n",
    "    requete = f\"https://api.exchangerate.host/timeseries?start_date={start_date}&end_date={end_date}&symbols={symbols}\"\n",
    "    r = requests.get(requete)\n",
    "    if not r and not r.json():\n",
    "        return False, False\n",
    "\n",
    "    api_rates = r.json().get(\"rates\")\n",
    "    all_rates = {currency:[] for currency in currencies}\n",
    "    pprint(all_rates)\n",
    "    all_days = sorted(api_rates.keys())\n",
    "    for each_day in all_days:\n",
    "        print(api_rates[each_day].items())\n",
    "        for currency,rate in api_rates[each_day].items():\n",
    "            all_rates[currency].append(rate)\n",
    "    \n",
    "    print(all_rates)\n",
    "\n",
    "    return None, None\n",
    "\n",
    "if __name__ == '__main__':\n",
    "    days , rates = get_rates(currencies=[\"USD\",\"CAD\"])\n",
    "\n",
    "\n",
    "\n",
    "\n",
    "\n",
    "\n",
    "\n"
   ]
  }
 ],
 "metadata": {
  "kernelspec": {
   "display_name": "Python 3",
   "language": "python",
   "name": "python3"
  },
  "language_info": {
   "codemirror_mode": {
    "name": "ipython",
    "version": 3
   },
   "file_extension": ".py",
   "mimetype": "text/x-python",
   "name": "python",
   "nbconvert_exporter": "python",
   "pygments_lexer": "ipython3",
   "version": "3.8.8"
  }
 },
 "nbformat": 4,
 "nbformat_minor": 5
}